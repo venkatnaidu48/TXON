{
  "nbformat": 4,
  "nbformat_minor": 0,
  "metadata": {
    "colab": {
      "provenance": [],
      "authorship_tag": "ABX9TyMdGXv6PicQniG4aevOr6Ih",
      "include_colab_link": true
    },
    "kernelspec": {
      "name": "python3",
      "display_name": "Python 3"
    },
    "language_info": {
      "name": "python"
    }
  },
  "cells": [
    {
      "cell_type": "markdown",
      "metadata": {
        "id": "view-in-github",
        "colab_type": "text"
      },
      "source": [
        "<a href=\"https://colab.research.google.com/github/venkatnaidu48/TXON/blob/main/Ai%20assignment.ipynb\" target=\"_parent\"><img src=\"https://colab.research.google.com/assets/colab-badge.svg\" alt=\"Open In Colab\"/></a>"
      ]
    },
    {
      "cell_type": "markdown",
      "source": [
        "Part 1: Retrieval-Augmented Generation (RAG) Model for QA Bot on P&L Data\n",
        "\n",
        "Embedding Generation:\n",
        "Use SentenceTransformers (e.g., all-MiniLM-L6-v2) to generate embeddings for P&L data points (e.g., revenue, expenses, profit margins)."
      ],
      "metadata": {
        "id": "TZZZrZyw8Tdu"
      }
    },
    {
      "cell_type": "code",
      "source": [
        "import pandas as pd\n",
        "import numpy as np\n",
        "import json\n",
        "from sklearn.linear_model import LinearRegression\n",
        "from collections import defaultdict\n",
        "\n",
        "# Sample function to load data (replace with API calls in actual implementation)\n",
        "def load_quiz_data():\n",
        "    # Mock data - replace with actual API responses\n",
        "    current_quiz = {\n",
        "        \"user_id\": 101,\n",
        "        \"quiz_id\": 555,\n",
        "        \"questions\": [\n",
        "            {\"id\": 1, \"topic\": \"Physics\", \"difficulty\": \"Hard\", \"correct\": False},\n",
        "            {\"id\": 2, \"topic\": \"Biology\", \"difficulty\": \"Medium\", \"correct\": True},\n",
        "            {\"id\": 3, \"topic\": \"Chemistry\", \"difficulty\": \"Easy\", \"correct\": True},\n",
        "            {\"id\": 4, \"topic\": \"Physics\", \"difficulty\": \"Medium\", \"correct\": False}\n",
        "        ]\n",
        "    }\n",
        "\n",
        "    historical_quizzes = [\n",
        "        {\"quiz_id\": 550, \"score\": 70, \"response_map\": {1: 2, 2: 1, 3: 3}},\n",
        "        {\"quiz_id\": 551, \"score\": 65, \"response_map\": {1: 2, 2: 1, 3: 3}},\n",
        "        {\"quiz_id\": 552, \"score\": 80, \"response_map\": {1: 1, 2: 2, 3: 3}},\n",
        "        {\"quiz_id\": 553, \"score\": 75, \"response_map\": {1: 1, 2: 2, 3: 3}},\n",
        "        {\"quiz_id\": 554, \"score\": 85, \"response_map\": {1: 1, 2: 2, 3: 3}}\n",
        "    ]\n",
        "\n",
        "    return current_quiz, historical_quizzes\n",
        "\n",
        "# Analyze performance trends\n",
        "def analyze_performance(current_quiz, historical_quizzes):\n",
        "    topic_performance = defaultdict(lambda: {\"correct\": 0, \"total\": 0})\n",
        "\n",
        "    for quiz in historical_quizzes:\n",
        "        for qid, selected_option in quiz[\"response_map\"].items():\n",
        "            # Assuming we have a correct answer map (dummy logic for now)\n",
        "            correct_answer = qid % 3 + 1  # Mock correct answer\n",
        "            if selected_option == correct_answer:\n",
        "                topic_performance[qid][\"correct\"] += 1\n",
        "            topic_performance[qid][\"total\"] += 1\n",
        "\n",
        "    # Calculate weak areas\n",
        "    weak_areas = {qid: perf for qid, perf in topic_performance.items() if perf[\"correct\"] / perf[\"total\"] < 0.6}\n",
        "\n",
        "    return weak_areas\n",
        "\n",
        "# Generate recommendations based on weak topics\n",
        "def generate_recommendations(weak_areas):\n",
        "    recommendations = []\n",
        "    for qid, data in weak_areas.items():\n",
        "        recommendations.append(f\"Focus more on topic related to Question ID {qid}. Accuracy: {data['correct']}/{data['total']}\")\n",
        "\n",
        "    return recommendations\n",
        "\n",
        "# NEET Rank Prediction Model\n",
        "def predict_neet_rank(historical_quizzes):\n",
        "    scores = [quiz['score'] for quiz in historical_quizzes]\n",
        "    attempts = list(range(1, len(scores) + 1))\n",
        "\n",
        "    # Linear regression model to predict future score\n",
        "    model = LinearRegression()\n",
        "    model.fit(np.array(attempts).reshape(-1, 1), np.array(scores))\n",
        "    predicted_score = model.predict(np.array([[len(scores) + 1]]))[0]\n",
        "\n",
        "    # Mock rank prediction (Assuming a mapping of score to rank)\n",
        "    estimated_rank = max(10000 - int(predicted_score * 100), 500)\n",
        "\n",
        "    return estimated_rank\n",
        "\n",
        "# Main Execution\n",
        "if __name__ == \"__main__\":\n",
        "    current_quiz, historical_quizzes = load_quiz_data()\n",
        "    weak_areas = analyze_performance(current_quiz, historical_quizzes)\n",
        "    recommendations = generate_recommendations(weak_areas)\n",
        "    estimated_rank = predict_neet_rank(historical_quizzes)\n",
        "\n",
        "    print(\"Personalized Recommendations:\")\n",
        "    for rec in recommendations:\n",
        "        print(\"-\", rec)\n",
        "\n",
        "    print(\"\\nEstimated NEET Rank:\", estimated_rank)\n"
      ],
      "metadata": {
        "id": "4E9a9JJWjXBE",
        "colab": {
          "base_uri": "https://localhost:8080/"
        },
        "outputId": "69824761-e4b2-40d9-84a8-5718bbf7b194"
      },
      "execution_count": 1,
      "outputs": [
        {
          "output_type": "stream",
          "name": "stdout",
          "text": [
            "Personalized Recommendations:\n",
            "- Focus more on topic related to Question ID 1. Accuracy: 2/5\n",
            "- Focus more on topic related to Question ID 2. Accuracy: 0/5\n",
            "- Focus more on topic related to Question ID 3. Accuracy: 0/5\n",
            "\n",
            "Estimated NEET Rank: 1300\n"
          ]
        }
      ]
    }
  ]
}